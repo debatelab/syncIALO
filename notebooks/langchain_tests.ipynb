{
 "cells": [
  {
   "cell_type": "markdown",
   "id": "1b28c8d7",
   "metadata": {},
   "source": [
    "## Setup"
   ]
  },
  {
   "cell_type": "code",
   "execution_count": 1,
   "id": "217ea481",
   "metadata": {},
   "outputs": [],
   "source": [
    "%load_ext dotenv\n",
    "%dotenv ../.env"
   ]
  },
  {
   "cell_type": "code",
   "execution_count": 2,
   "id": "32450c0d",
   "metadata": {},
   "outputs": [],
   "source": [
    "import os\n",
    "assert \"HUGGINGFACEHUB_API_TOKEN\" in os.environ"
   ]
  },
  {
   "cell_type": "code",
   "execution_count": 3,
   "id": "0995529b",
   "metadata": {},
   "outputs": [
    {
     "name": "stderr",
     "output_type": "stream",
     "text": [
      "/Users/ggbetz/git/syncIALO/.hatch/syncialo/lib/python3.12/site-packages/tqdm/auto.py:21: TqdmWarning: IProgress not found. Please update jupyter and ipywidgets. See https://ipywidgets.readthedocs.io/en/stable/user_install.html\n",
      "  from .autonotebook import tqdm as notebook_tqdm\n"
     ]
    },
    {
     "name": "stdout",
     "output_type": "stream",
     "text": [
      "The token has not been saved to the git credentials helper. Pass `add_to_git_credential=True` in this function directly or `--add-to-git-credential` if using via `huggingface-cli` if you want to set the git credential as well.\n",
      "Token is valid (permission: fineGrained).\n",
      "Your token has been saved to /Users/ggbetz/.cache/huggingface/token\n",
      "Login successful\n"
     ]
    }
   ],
   "source": [
    "from langchain_huggingface import ChatHuggingFace, HuggingFaceEndpoint\n",
    "\n",
    "llm = HuggingFaceEndpoint(\n",
    "    repo_id=\"HuggingFaceH4/zephyr-7b-beta\",\n",
    "    task=\"text-generation\",\n",
    "    max_new_tokens=512,\n",
    "    do_sample=True,\n",
    "    temperature=0.4,\n",
    ")\n",
    "\n",
    "chat_model = ChatHuggingFace(llm=llm)"
   ]
  },
  {
   "cell_type": "code",
   "execution_count": 4,
   "id": "d92e75df",
   "metadata": {},
   "outputs": [],
   "source": [
    "# test API\n",
    "#from langchain_core.prompts import ChatPromptTemplate\n",
    "#chain = ChatPromptTemplate.from_messages([(\"user\",\"Tell me a joke about {x}!\")]) | chat_model\n",
    "#chain.invoke({\"x\":\"kids\"})"
   ]
  },
  {
   "cell_type": "markdown",
   "id": "b2742079",
   "metadata": {},
   "source": [
    "## Tests"
   ]
  },
  {
   "cell_type": "code",
   "execution_count": 5,
   "id": "3451ad03",
   "metadata": {},
   "outputs": [
    {
     "name": "stdout",
     "output_type": "stream",
     "text": [
      "Loaded 300 tags. Choose: ['Copyright', 'Art', 'Basketball', 'Police', 'HumanRights', 'Protest', 'Religion', 'FBI'].\n"
     ]
    }
   ],
   "source": [
    "import random \n",
    "\n",
    "with open('../data/tags.txt') as file:\n",
    "    tags = [line.rstrip() for line in file]\n",
    "testtags = random.sample(tags, 8)\n",
    "print(f\"Loaded {len(tags)} tags. Choose: {testtags}.\")\n"
   ]
  },
  {
   "cell_type": "code",
   "execution_count": 6,
   "id": "53f061c8",
   "metadata": {},
   "outputs": [],
   "source": [
    "from syncialo.chains.debate_design import SuggestTopicsChain\n",
    "\n",
    "chain = SuggestTopicsChain.build(chat_model)"
   ]
  },
  {
   "cell_type": "code",
   "execution_count": 7,
   "id": "539032cc",
   "metadata": {},
   "outputs": [
    {
     "name": "stdout",
     "output_type": "stream",
     "text": [
      "[\n",
      "  {\n",
      "    \"idx\": 1,\n",
      "    \"topic\": \"Should artists have the right to copyright their street art, and how should police handle the removal or destruction of these works?\"\n",
      "  },\n",
      "  {\n",
      "    \"idx\": 2,\n",
      "    \"topic\": \"Should the FBI investigate cases of perceived religious extremism, and how should human rights be balanced in such investigations?\"\n",
      "  },\n",
      "  {\n",
      "    \"idx\": 3,\n",
      "    \"topic\": \"Is basketball a form of protest, and should athletes be encouraged to speak out on social and political issues through their sports platform?\"\n",
      "  },\n",
      "  {\n",
      "    \"idx\": 4,\n",
      "    \"topic\": \"Should human rights be considered a higher priority than police actions in cases of deadly force?\"\n",
      "  },\n",
      "  {\n",
      "    \"idx\": 5,\n",
      "    \"topic\": \"Should artists' right to freedom of expression take precedence over copyright laws, and should religious organizations be able to claim copyright on religious texts and artwork?\"\n",
      "  }\n",
      "]\n"
     ]
    }
   ],
   "source": [
    "import ujson\n",
    "\n",
    "from langchain.globals import set_verbose\n",
    "\n",
    "set_verbose(True)\n",
    "\n",
    "output = chain.invoke({\n",
    "    \"tags\": testtags,\n",
    "    \"debates_per_tag_cluster\": 5\n",
    "})\n",
    "\n",
    "print(ujson.dumps(output, indent=2))"
   ]
  },
  {
   "cell_type": "markdown",
   "id": "a078cc7f",
   "metadata": {},
   "source": [
    "## Pipeline\n",
    "\n",
    "1. partition 300 tags:\n",
    "\n",
    "    * 280 universal tags\n",
    "    * 10 validation tags\n",
    "    * 10 test tags\n",
    "\n",
    "2. determine debate tag-clusters \n",
    "\n",
    "    * train: 100 clusters composed of universal tags\n",
    "    * eval: 5 mixed tag-clusters with 50% eval tags, 50% univeral tags each\n",
    "    * test: 5 mixed tag-clusters with 50% test tags, 50% univeral tags each\n",
    "\n",
    "3. topics and motions\n",
    "\n",
    "4. recursively generate balanced argument tree\n",
    "    \n"
   ]
  },
  {
   "cell_type": "code",
   "execution_count": 7,
   "id": "79a704b5",
   "metadata": {},
   "outputs": [],
   "source": [
    "TAGS_PER_CLUSTER = 8\n",
    "DEBATES_PER_TAG_CLUSTER = 10\n",
    "TRAIN_SPLIT_SIZE = 1000\n",
    "EVAL_SPLIT_SIZE = 50\n",
    "TEST_SPLIT_SIZE = 50\n",
    "DEGREE_CONFIGS = [\n",
    "    [6,6,1,0],\n",
    "    [5,5,2,0],\n",
    "    [3,2,2,1,1,0],\n",
    "    [4,3,2,1,0],\n",
    "    [3,4,2,1,0]     \n",
    "]\n"
   ]
  },
  {
   "cell_type": "code",
   "execution_count": null,
   "id": "4d128adb",
   "metadata": {},
   "outputs": [],
   "source": []
  },
  {
   "cell_type": "markdown",
   "id": "898bc98e",
   "metadata": {},
   "source": [
    "## Tags"
   ]
  },
  {
   "cell_type": "code",
   "execution_count": 8,
   "id": "37c1fcc0",
   "metadata": {},
   "outputs": [
    {
     "data": {
      "text/plain": [
       "300"
      ]
     },
     "execution_count": 8,
     "metadata": {},
     "output_type": "execute_result"
    }
   ],
   "source": [
    "with open('tags.txt') as file:\n",
    "    tags = [line.rstrip() for line in file]\n",
    "len(tags)"
   ]
  },
  {
   "cell_type": "code",
   "execution_count": 9,
   "id": "36664790",
   "metadata": {},
   "outputs": [],
   "source": [
    "import random\n",
    "\n",
    "random_tagging = random.Random(42)\n",
    "tags_universal = tags.copy()\n",
    "tags_eval = random_tagging.sample(tags_universal, k=10)\n",
    "tags_universal = [t for t in tags_universal if t not in tags_eval]\n",
    "tags_test = random_tagging.sample(tags_universal, k=10)\n",
    "tags_universal = [t for t in tags_universal if t not in tags_test]\n",
    "\n",
    "assert set(tags) == set(tags_universal) | set(tags_test) | set(tags_eval)"
   ]
  },
  {
   "cell_type": "code",
   "execution_count": 10,
   "id": "9e074e6b",
   "metadata": {},
   "outputs": [],
   "source": [
    "# train tag clusters\n",
    "n = TRAIN_SPLIT_SIZE // DEBATES_PER_TAG_CLUSTER\n",
    "tag_clusters_train = []\n",
    "for i in range(n):\n",
    "    tc = random.Random(42+i).sample(tags_universal, k=TAGS_PER_CLUSTER)\n",
    "    tag_clusters_train.append({\"tags\":tc, \"split\":\"train\"})\n",
    "\n",
    "# eval tag clusters\n",
    "n = EVAL_SPLIT_SIZE // DEBATES_PER_TAG_CLUSTER\n",
    "tag_clusters_eval = []\n",
    "for i in range(n):\n",
    "    tc = random.Random(42+i).sample(tags_universal, k=TAGS_PER_CLUSTER//2)\n",
    "    tc += random.Random(42+i).sample(tags_eval, k=TAGS_PER_CLUSTER//2)\n",
    "    random.Random(42+i).shuffle(tc)\n",
    "    tag_clusters_eval.append({\"tags\":tc, \"split\":\"eval\"})\n",
    "\n",
    "# test tag clusters\n",
    "n = TEST_SPLIT_SIZE // DEBATES_PER_TAG_CLUSTER\n",
    "tag_clusters_test = []\n",
    "for i in range(n):\n",
    "    tc = random.Random(42+i).sample(tags_universal, k=TAGS_PER_CLUSTER//2)\n",
    "    tc += random.Random(42+i).sample(tags_test, k=TAGS_PER_CLUSTER//2)\n",
    "    random.Random(42+i).shuffle(tc)\n",
    "    tag_clusters_test.append({\"tags\":tc, \"split\":\"test\"})"
   ]
  },
  {
   "cell_type": "markdown",
   "id": "3bf90f2c",
   "metadata": {},
   "source": [
    "## Topics and motions"
   ]
  },
  {
   "cell_type": "code",
   "execution_count": 11,
   "id": "54bcd898",
   "metadata": {},
   "outputs": [
    {
     "ename": "ValueError",
     "evalue": "Directory ./debates/SOLAR-10.7B-Instruct-v1.0-AWQ exists. Delete before creating topics and motions.",
     "output_type": "error",
     "traceback": [
      "\u001b[0;31m---------------------------------------------------------------------------\u001b[0m",
      "\u001b[0;31mValueError\u001b[0m                                Traceback (most recent call last)",
      "Cell \u001b[0;32mIn[11], line 10\u001b[0m\n\u001b[1;32m      7\u001b[0m \u001b[38;5;28;01mimport\u001b[39;00m \u001b[38;5;21;01mqueries\u001b[39;00m\n\u001b[1;32m      9\u001b[0m \u001b[38;5;28;01mif\u001b[39;00m os\u001b[38;5;241m.\u001b[39mpath\u001b[38;5;241m.\u001b[39misdir(corpus_path):\n\u001b[0;32m---> 10\u001b[0m     \u001b[38;5;28;01mraise\u001b[39;00m \u001b[38;5;167;01mValueError\u001b[39;00m(\u001b[38;5;124mf\u001b[39m\u001b[38;5;124m\"\u001b[39m\u001b[38;5;124mDirectory \u001b[39m\u001b[38;5;132;01m{\u001b[39;00mcorpus_path\u001b[38;5;132;01m}\u001b[39;00m\u001b[38;5;124m exists. Delete before creating topics and motions.\u001b[39m\u001b[38;5;124m\"\u001b[39m)\n\u001b[1;32m     11\u001b[0m os\u001b[38;5;241m.\u001b[39mmakedirs(corpus_path)\n\u001b[1;32m     13\u001b[0m metadata \u001b[38;5;241m=\u001b[39m []\n",
      "\u001b[0;31mValueError\u001b[0m: Directory ./debates/SOLAR-10.7B-Instruct-v1.0-AWQ exists. Delete before creating topics and motions."
     ]
    }
   ],
   "source": [
    "import os\n",
    "import pandas as pd\n",
    "import random\n",
    "from tqdm import tqdm\n",
    "import uuid\n",
    "\n",
    "import queries\n",
    "\n",
    "if os.path.isdir(corpus_path):\n",
    "    raise ValueError(f\"Directory {corpus_path} exists. Delete before creating topics and motions.\")\n",
    "os.makedirs(corpus_path)\n",
    "\n",
    "metadata = []\n",
    "\n",
    "logger.info(\"Creating topics\")\n",
    "for tags in tqdm(tag_clusters_train+tag_clusters_eval+tag_clusters_test):\n",
    "    topics = await queries.suggest_topics(\n",
    "        model=model,\n",
    "        tags=tags[\"tags\"],\n",
    "        debates_per_tag_cluster=DEBATES_PER_TAG_CLUSTER,\n",
    "        decoder=\"sample\",\n",
    "        temperature=.6,\n",
    "    )\n",
    "    for topic in topics:\n",
    "        degree_config = random.choice(DEGREE_CONFIGS)\n",
    "        metadata.append({**tags, \"topic\": topic, \"degree_config\": degree_config})\n",
    "\n",
    "        \n",
    "logger.info(\"Creating motions\")\n",
    "for record in tqdm(metadata):\n",
    "    motion = await queries.suggest_motion(\n",
    "        model=model,\n",
    "        tags=record[\"tags\"],\n",
    "        topic=record[\"topic\"],\n",
    "        decoder=\"sample\",\n",
    "        temperature=.6,\n",
    "    )\n",
    "    record.update({\"motion\": motion, \"uid\": str(uuid.uuid4())})\n",
    "\n",
    "    \n",
    "df_metadata = pd.DataFrame(metadata)\n",
    "df_metadata.to_csv(os.path.join(corpus_path,\"metadata.csv\"), index=False)\n",
    "\n",
    "df_metadata.head()    "
   ]
  },
  {
   "cell_type": "code",
   "execution_count": null,
   "id": "2d32807e",
   "metadata": {},
   "outputs": [],
   "source": [
    "# number of claims in each debate\n",
    "import math \n",
    "\n",
    "def n_claims(profile):\n",
    "    profile_d = [2*i for i in profile]\n",
    "    total = 0\n",
    "    for i in range(len(profile_d)):\n",
    "        total += math.prod(profile_d[:i+1])\n",
    "    return total\n",
    "\n",
    "nc = df_metadata.degree_config.apply(n_claims)\n",
    "\n",
    "for split in [\"train\", \"eval\", \"test\"]:\n",
    "    print(f\"{split}: {nc[df_metadata.split.eq(split)].sum()}\")"
   ]
  },
  {
   "cell_type": "markdown",
   "id": "aded8f22",
   "metadata": {},
   "source": [
    "## Debate Generation"
   ]
  },
  {
   "cell_type": "code",
   "execution_count": null,
   "id": "ac19c03e",
   "metadata": {},
   "outputs": [
    {
     "name": "stderr",
     "output_type": "stream",
     "text": [
      "2024-01-22T09:41:50.042083+0000 WARNING File './debates/SOLAR-10.7B-Instruct-v1.0-AWQ/kialo/train/de3b5cc7-df6f-4aed-a5b7-bc9926847166.txt' exists, skipping debate #1.\n",
      "2024-01-22T09:41:50.043735+0000 WARNING File './debates/SOLAR-10.7B-Instruct-v1.0-AWQ/kialo/train/c72bed56-df33-42d8-aa4b-e7e675e50037.txt' exists, skipping debate #2.\n",
      "2024-01-22T09:41:50.044525+0000 WARNING File './debates/SOLAR-10.7B-Instruct-v1.0-AWQ/kialo/train/5e38311f-ee37-4a7e-b795-9896db8a3ff5.txt' exists, skipping debate #3.\n",
      "2024-01-22T09:41:50.046323+0000 INFO Building debate #4 (of 1100) with topic 'The Ethics of Genetic Engineering: Can it Enhance or Endanger Future Generations?' and central claim 'Genetic engineering, when strictly regulated and ethically applied, has the potential to enhance future generations without causing significant endangerment to human life and values.' ...\n",
      "tokenizer_config.json: 100%|██████████| 1.41k/1.41k [00:00<00:00, 9.62MB/s]\n",
      "tokenizer.model: 100%|██████████| 493k/493k [00:00<00:00, 59.0MB/s]\n",
      "tokenizer.json: 100%|██████████| 1.80M/1.80M [00:00<00:00, 55.8MB/s]\n",
      "special_tokens_map.json: 100%|██████████| 551/551 [00:00<00:00, 4.30MB/s]\n",
      "2024-01-22T09:41:50.829504+0000 INFO Building debate #5 (of 1100) with topic 'Parental Controls in the Digital Age: Should Apple Play a Greater Role or Leave it to Parents?' and central claim 'Apple should significantly enhance parental controls in their digital products to ensure a safer online environment for children, beyond the responsibility of parents alone.' ...\n",
      "2024-01-22T09:41:50.833157+0000 WARNING File './debates/SOLAR-10.7B-Instruct-v1.0-AWQ/kialo/train/b463ddf4-1300-4ed6-baeb-17dedc253899.txt' exists, skipping debate #6.\n",
      "2024-01-22T09:41:50.834746+0000 INFO Building debate #7 (of 1100) with topic 'The Moral Responsibility of Tech Giants like Apple: Should they Regulate Access to Content for Children?' and central claim 'Apple and other tech giants have an ethical obligation to enforce strict content regulations for children's devices to promote a healthy digital environment and safeguard their mental and physical well-being.' ...\n",
      "2024-01-22T09:41:50.837629+0000 WARNING File './debates/SOLAR-10.7B-Instruct-v1.0-AWQ/kialo/train/d0279427-24d9-4f3b-a876-9aa570abaafb.txt' exists, skipping debate #8.\n",
      "2024-01-22T09:41:50.838954+0000 INFO Building debate #9 (of 1100) with topic 'A Global Referendum on Climate Change: Should Nations be Held Accountable to Save the World?' and central claim 'Governments worldwide must be legally bound to implement rigorous climate change mitigation measures and undergo regular global referendums to ensure accountability for the well-being of future generations, prioritizing the preservation of life, protection of children, nurturing of natural resources (like apples), preserving our planet as a real world instead of a fantasy, and promoting global unity in the face of shared crises such as climate change, abortion, and pandemics like Covid-19.' ...\n",
      "2024-01-22T09:41:50.842541+0000 INFO Building debate #10 (of 1100) with topic 'Abortion Laws in a Digital Era: Should Telemedicine be Embraced or Rejected?' and central claim 'Integrating telemedicine into abortion laws in the digital era ensures safe and accessible reproductive healthcare for women while respecting their rights and autonomy.' ...\n",
      "2024-01-22T09:41:50.845720+0000 INFO Building debate #11 (of 1100) with topic '\"Should feminist ideals be integrated into the core curriculum of Android devices to promote gender equality?\"' and central claim 'Integrating core feminist principles into the educational software of Android devices promotes gender equality and fosters a more equitable society.' ...\n",
      "2024-01-22T09:41:50.848557+0000 INFO Building debate #12 (of 1100) with topic '\"Does voter education through social media campaigns have a significant impact on youth turnout in Mexican elections?\"' and central claim 'Implementing social media voter education campaigns is crucial to substantially increase youth participation in Mexican elections.' ...\n",
      "2024-01-22T09:41:50.852852+0000 INFO Building debate #13 (of 1100) with topic '\"Should reproductive rights be considered a fundamental human right, globally enforced by international law?\"' and central claim 'International law should incorporate reproductive rights as an inalienable and universally enforced fundamental human right.' ...\n",
      "2024-01-22T09:41:50.856388+0000 INFO Building debate #14 (of 1100) with topic '\"Are non-monogamous relationships a modern experiment in relationship dynamics, or a regression from traditional values?\"' and central claim 'Non-monogamous relationships are a progressive evolution in relationship dynamics that challenges traditional values for the betterment of individual rights and feminism.' ...\n",
      "2024-01-22T09:41:50.859239+0000 INFO Building debate #15 (of 1100) with topic '\"To what extent should technological advancements in medicine be regulated to prevent ethical violations in medical experiments?\"' and central claim 'Strict regulations should be implemented to govern medical technology advancements, ensuring ethical boundaries are maintained and preventing violations in medical experiments.' ...\n",
      "2024-01-22T09:41:50.862089+0000 INFO Building debate #16 (of 1100) with topic '\"Should mandatory parental leave policies be implemented to facilitate work-life balance and promote gender equality at home?\"' and central claim 'Implementing mandatory parental leave policies is essential to promote gender equality, enhance work-life balance, and support familial well-being.' ...\n",
      "2024-01-22T09:41:50.865412+0000 INFO Building debate #17 (of 1100) with topic '\"Should Mexico prioritize legal reforms over economic growth to ensure basic human rights for marginalized communities?\"' and central claim 'Mexico should prioritize comprehensive legal reforms to protect and promote human rights for marginalized communities, even if it temporarily slows down economic growth.' ...\n",
      "2024-01-22T09:41:50.868109+0000 INFO Building debate #18 (of 1100) with topic '\"Do feminist perspectives on gaming and media contribute positively to societal changes or are they merely an attempt to censor creative expression?\"' and central claim 'Feminist perspectives on gaming and media effectively promote positive societal changes by challenging harmful stereotypes and fostering inclusivity.' ...\n",
      "2024-01-22T09:41:50.870693+0000 INFO Building debate #19 (of 1100) with topic '\"Does the rise of AI and automation pose a threat to human rights and labor laws, necessitating global regulatory changes?\"' and central claim 'Implement global regulatory changes to protect human rights and labor laws in response to the rising AI and automation.' ...\n",
      "2024-01-22T09:41:50.873267+0000 INFO Building debate #20 (of 1100) with topic '\"Do long-distance relationships, facilitated by modern technology, change the core dynamics of romantic relationships for better or worse?\"' and central claim 'Modern technology enhances and positively alters the core dynamics of romantic relationships in long-distance scenarios, promoting equality, convenience, and personal growth.' ...\n",
      "2024-01-22T09:41:50.875835+0000 INFO Building debate #21 (of 1100) with topic 'Bias and Jobs: Should companies be legally required to implement unbiased AI algorithms to prevent discrimination in the hiring process?' and central claim 'Legal mandates on companies are necessary to ensure the use of unbiased AI algorithms in the hiring process to combat discrimination and promote fairness in the job market.' ...\n",
      "2024-01-22T09:41:50.878476+0000 INFO Building debate #22 (of 1100) with topic 'DDoS and Cuba: Should the international community invest in cybersecurity assistance for Cuba to prevent potential political DDoS attacks?' and central claim 'The international community should actively provide cybersecurity resources and support to Cuba to safeguard its political infrastructure from DDoS attacks and protect its people's fundamental rights and well-being in areas such as food, jobs, and climate.' ...\n",
      "2024-01-22T09:41:50.881491+0000 INFO Building debate #23 (of 1100) with topic 'Food and Climate: Is vertical farming a more sustainable solution for food production in the face of a changing climate?' and central claim 'Adoption of vertical farming is a crucial and more sustainable approach to food production in the face of climate change, benefiting communities by securing food supply, creating jobs, and minimizing environmental impact.' ...\n",
      "2024-01-22T09:41:50.884740+0000 INFO Building debate #24 (of 1100) with topic 'Bias and Christmas: Do traditional Christmas advertisements perpetuate harmful stereotypes and promote societal bias?' and central claim 'Excessive reliance on traditional Christmas advertising should be discouraged to combat biased stereotypes and promote inclusivity in society.' ...\n",
      "2024-01-22T09:41:50.887555+0000 INFO Building debate #25 (of 1100) with topic 'DDoS and Sci-Fi: Should governments develop advanced cybersecurity measures, inspired by sci-fi concepts, to counter potential catastrophic DDoS attacks?' and central claim 'Governments should invest in innovative cybersecurity measures, drawing inspiration from science fiction, to prevent severe DDoS attacks and secure critical infrastructure for the protection of food, jobs, and climate against potential catastrophes.' ...\n",
      "2024-01-22T09:41:50.890661+0000 INFO Building debate #26 (of 1100) with topic 'Food and Bias: Can food justice initiatives mitigate systemic bias and food insecurity in disadvantaged communities?' and central claim 'Food justice initiatives are an effective solution to significantly reduce systemic bias and alleviate food insecurity in underserved communities.' ...\n",
      "2024-01-22T09:41:50.893602+0000 INFO Building debate #27 (of 1100) with topic 'DDoS and Jobs: Should governments provide incentives for companies to invest in cybersecurity to prevent large-scale job loss due to DDoS attacks?' and central claim 'Governments should implement incentive programs to encourage companies to significantly invest in cybersecurity measures, mitigating the risk of job loss due to DDoS attacks and addressing broader concerns about climate, food security, and digital safety.' ...\n",
      "2024-01-22T09:41:50.896257+0000 INFO Building debate #28 (of 1100) with topic 'Cuba and Climate: Should the international community collaborate with Cuba to develop sustainable farming practices in light of climate change?' and central claim 'The international community should actively partner with Cuba to implement sustainable farming methods in response to climate change, promoting food security, creating local jobs, and fostering global environmental responsibility.' ...\n",
      "2024-01-22T09:41:50.899049+0000 INFO Building debate #29 (of 1100) with topic 'Sci-Fi and Christmas: Is commercialization of Christmas inspired by sci-fi themes contributing to the loss of cultural traditions and values?' and central claim 'Excessive integration of sci-fi themes in the commercialization of Christmas significantly undermines and erodes traditional cultural values and customs.' ...\n",
      "2024-01-22T09:41:50.901663+0000 INFO Building debate #30 (of 1100) with topic 'Bias and Climate: Should climate change policies prioritize disadvantaged communities to address environmental and socioeconomic bias?' and central claim 'Climate change policies should actively promote equitable distribution of resources and targeted interventions to address historical biases and disproportionate impacts on disadvantaged communities.' ...\n",
      "2024-01-22T09:41:50.904583+0000 INFO Building debate #31 (of 1100) with topic 'The Impact of Strict Gun Legislation on National Sovereignty and Independence: Analyzing the Consequences' and central claim 'Implementing stricter gun legislation strengthens national sovereignty and independence by enhancing competency, promoting a safer environment for business, research, and health, and mitigating the consequences of atheism and nuclear weapons proliferation.' ...\n",
      "2024-01-22T09:41:50.907182+0000 INFO Building debate #32 (of 1100) with topic 'The Competency of Atheist Leaders: Should Religious Beliefs Influence Political Eligibility?' and central claim 'Atheist leaders are fully competent to hold political office, regardless of their lack of religious beliefs, as it has no direct impact on their ability to address critical issues such as legislation, independence, business, research, nuclear weapons, and health.' ...\n",
      "2024-01-22T09:41:50.910637+0000 INFO Building debate #33 (of 1100) with topic 'The Role of Big Business in Medical Research: Exploring the Ethics and Health Implications' and central claim 'Big businesses should significantly increase their investment in medical research while prioritizing ethical considerations and public health outcomes over profit maximization.' ...\n",
      "2024-01-22T09:41:50.913590+0000 INFO Building debate #34 (of 1100) with topic 'The Legitimacy of Nuclear Weapons as a Deterrent: A Moral and Strategic Debate' and central claim 'Nuclear weapons, despite ethical concerns, effectively serve as a critical deterrent for maintaining national security and preventing global catastrophe.' ...\n",
      "2024-01-22T09:41:50.917920+0000 INFO Building debate #35 (of 1100) with topic 'The Independence of Scientific Research: Investigating the Influence of Corporate Funding and its Effect on Scientific Integrity' and central claim 'Strict regulations should be enforced to prevent corporate funding from compromising the integrity and autonomy of scientific research.' ...\n",
      "2024-01-22T09:41:50.920832+0000 INFO Building debate #36 (of 1100) with topic 'The Business of Atheism: A Critical Examination of Secular Organizations and their Impact on Society' and central claim 'Secular organizations promoting atheism should significantly increase their societal contributions by expanding research and advocacy efforts while maintaining strict independence from political and nuclear weapons influences.' ...\n",
      "2024-01-22T09:41:50.924715+0000 INFO Building debate #37 (of 1100) with topic 'The Competency of Non-Proliferation Treaties: Assessing their Effectiveness in Reducing Nuclear Arsenals' and central claim 'Non-Proliferation Treaties have significantly contributed to the global reduction of nuclear arsenals and deserve continued support and enforcement.' ...\n",
      "2024-01-22T09:41:50.927255+0000 INFO Building debate #38 (of 1100) with topic 'Healthcare as a Human Right vs Market Commodity: Debating the Legality and Ethics' and central claim 'Healthcare is an unconditional human right that should be prioritized and provided by the state, rather than being treated as a market commodity.' ...\n",
      "2024-01-22T09:41:50.929985+0000 INFO Building debate #39 (of 1100) with topic 'The Impact of Religious Beliefs on Scientific Research: Atheism vs. Theistic Perspectives' and central claim 'Religious beliefs significantly hinder scientific progress and should be kept separate from state-funded research and educational institutions for the promotion of evidence-based knowledge and innovation.' ...\n",
      "2024-01-22T09:41:50.932839+0000 INFO Building debate #40 (of 1100) with topic 'Business and Legislation: Balancing Corporate Profits and Public Welfare in Nuclear Energy Regulation' and central claim 'Stricter government regulations and enhanced public oversight are essential to ensure the alignment of corporate profits and public welfare in the nuclear energy sector.' ...\n",
      "2024-01-22T09:41:50.936144+0000 INFO Building debate #41 (of 1100) with topic 'The Existence of Mass Surveillance in America: Invasion of Privacy or National Security?' and central claim 'Implementation of mass surveillance in America is a necessary sacrifice of individual privacy for the enhancement and protection of national security.' ...\n",
      "2024-01-22T09:41:50.939026+0000 INFO Building debate #42 (of 1100) with topic 'The Dark Web and its Impact on School Safety: A Hidden Threat or Invaluable Resource for Cybersecurity Education?' and central claim 'The Dark Web, despite its potential threats, should be integrated into school curriculums as a valuable resource to enhance cybersecurity education and promote safer online practices among students.' ...\n",
      "2024-01-22T09:41:50.941649+0000 INFO Building debate #43 (of 1100) with topic 'The Death of Traditional Christianity in America: A Result of Crowd Manipulation or a Natural Evolution?' and central claim 'The decline of traditional Christianity in America is primarily driven by external influences and crowd manipulation rather than a natural evolution in societal values.' ...\n",
      "2024-01-22T09:41:50.944690+0000 INFO Building debate #44 (of 1100) with topic 'The Dark Web and Voting Systems: A Looming Threat to Electoral Integrity or an Opportunity for Secure Online Voting?' and central claim 'Implementing robust dark web technology can significantly enhance the security and integrity of online voting systems in America.' ...\n",
      "2024-01-22T09:41:50.947382+0000 INFO Building debate #45 (of 1100) with topic 'The Role of Education in Preventing Death from Online Dangers: Is it Enough or Should it be Mandatory?' and central claim 'Educational institutions in America should implement mandatory programs to prevent death and crowd manipulation from online dangers like the Dark Web and its connections to Christianity and electoral processes.' ...\n",
      "2024-01-22T09:41:50.950964+0000 INFO Building debate #46 (of 1100) with topic 'Christianity in Schools: Promoting Beliefs or Encouraging Morality?' and central claim 'Schools should prioritize instilling moral values over promoting specific religious beliefs, in order to foster a diverse and inclusive educational environment for American students.' ...\n",
      "2024-01-22T09:41:50.953683+0000 INFO Building debate #47 (of 1100) with topic 'The Existence of American Crowd Manipulation: A Modern Phenomenon or an Old Political Tactic?' and central claim 'The practice of crowd manipulation in American politics has significantly intensified and evolved due to modern technologies and platforms, threatening the integrity of democratic values.' ...\n",
      "2024-01-22T09:41:50.956330+0000 INFO Building debate #48 (of 1100) with topic 'The Death of Democracy without Dark Web Regulation: An Unavoidable Consequence or an Exaggeration?' and central claim 'Strict regulations on the Dark Web are imperative to safeguard democracy from the threat of crowd manipulation and voter fraud.' ...\n",
      "2024-01-22T09:41:50.961727+0000 INFO Building debate #49 (of 1100) with topic 'The Impact of School Curriculums on Voting Behavior: A Catalyst for Informed Decision-making or a Hindrance?' and central claim 'School curriculums significantly contribute to shaping informed voting behavior through an appropriate integration of essential subjects and values in American society.' ...\n",
      "2024-01-22T09:41:50.964513+0000 INFO Building debate #50 (of 1100) with topic 'The Ethics of Crowd Manipulation in Christianity: A Sacred Practice or a Morally Questionable Tactic?' and central claim 'Christianity should unequivocally condemn the deliberate manipulation of crowds for political, social, or religious gains as an unethical practice contrary to its core principles.' ...\n",
      "2024-01-22T09:41:50.967383+0000 INFO Building debate #51 (of 1100) with topic 'Parliaments' Responsibility in Strengthening Animal Rights Laws in Greece.' and central claim 'Parliaments in Greece have a moral obligation to enact comprehensive animal rights legislation to protect animals from abuse and cruel practices, such as experimentation and exploitation.' ...\n",
      "2024-01-22T09:41:50.970287+0000 INFO Building debate #52 (of 1100) with topic 'Ethical Dilemmas of Animal Testing: Should Greek Universities Experiment Less?' and central claim 'Greek universities should significantly reduce animal testing in their research programs to prioritize ethical values and alternative methods.' ...\n",
      "2024-01-22T09:41:50.974649+0000 INFO Building debate #53 (of 1100) with topic 'Student Activism vs. Parliamentary Action: Who's More Effective in Addressing Animal Cruelty in Greece?' and central claim 'Student activism is more effective than parliamentary action in combating animal cruelty in Greece.' ...\n",
      "2024-01-22T09:41:50.979499+0000 INFO Building debate #54 (of 1100) with topic 'The Rise of Atheism in Greece: Threat or Opportunity for Intellectual Debates?' and central claim 'The rise of Atheism in Greece significantly enriches intellectual debates and fosters critical thinking within society.' ...\n",
      "2024-01-22T09:41:50.986645+0000 INFO Building debate #55 (of 1100) with topic 'Flat Earth Theory vs. Scientific Experimentation: Should Anonymity Be Preserved in Research?' and central claim 'In the interest of protecting animal welfare, academic freedom, and fostering an environment conducive to scientific discovery, this debate advocates for the preservation of anonymity in research related to the Flat Earth Theory and other controversial subjects.' ...\n",
      "2024-01-22T09:41:50.992455+0000 INFO Building debate #56 (of 1100) with topic 'Parliamentary Funding for Anonymous Whistleblowers Exposing Animal Cruelty in Greek Institutions.' and central claim 'Parliament should provide funding to protect the anonymity of whistleblowers exposing animal cruelty in Greek institutions involved in research and education.' ...\n",
      "2024-01-22T09:41:50.995431+0000 INFO Building debate #57 (of 1100) with topic 'The Impact of Student Atheism on Greek Society: An Argument for Debate.' and central claim 'Greek society should recognize and embrace the positive contributions of student atheism in fostering critical thinking and ethical progress within academic and societal discourse.' ...\n",
      "2024-01-22T09:41:50.998686+0000 INFO Building debate #58 (of 1100) with topic 'The Role of Greek Parliament in Enacting Stronger Animal Welfare Policies.' and central claim 'The Greek Parliament should significantly strengthen its legislative efforts to enforce comprehensive animal welfare policies and regulations.' ...\n",
      "2024-01-22T09:41:51.001727+0000 INFO Building debate #59 (of 1100) with topic 'The Flat Earth Theory: A Challenge to Greek Education and Student Learning.' and central claim 'Greek education should actively address and counter the Flat Earth Theory to promote scientific literacy and critical thinking among students.' ...\n",
      "2024-01-22T09:41:51.004426+0000 INFO Building debate #60 (of 1100) with topic 'The Ethics of Anonymous Online Activism: Atheist Campaigns Against Animal Cruelty in Greece.' and central claim 'We support the ethical use of anonymous online activism by atheist students in Greece to raise awareness and campaign against animal cruelty in scientific experiments.' ...\n",
      "2024-01-22T09:41:51.007201+0000 INFO Building debate #61 (of 1100) with topic 'The impact of speech regulations on freedom of expression versus combating discrimination in the United States.' and central claim 'Strict speech regulations are necessary to effectively combat discrimination while preserving essential freedom of expression in the United States.' ...\n",
      "2024-01-22T09:41:51.010143+0000 INFO Building debate #62 (of 1100) with topic 'Examining the axioms behind diversity and inclusion in the American acting industry.' and central claim 'The American acting industry should actively promote and enforce inclusive practices to ensure equitable representation and opportunities for underrepresented groups in TV, film, and gaming.' ...\n",
      "2024-01-22T09:41:51.013897+0000 INFO Building debate #63 (of 1100) with topic 'The role of media representation in reducing discrimination on TV shows and its influence on society.' and central claim 'The intentional and authentic portrayal of diverse characters in TV shows significantly contributes to reducing societal discrimination.' ...\n",
      "2024-01-22T09:41:51.034466+0000 INFO Building debate #64 (of 1100) with topic 'The ethical implications of video game developers promoting diversity in gaming content.' and central claim 'Video game developers have a moral obligation to actively promote diverse representations and narratives in gaming content to foster inclusivity and combat discrimination in the industry.' ...\n",
      "2024-01-22T09:41:51.037439+0000 INFO Building debate #65 (of 1100) with topic 'Should video games be subject to stricter regulation for their potential effects on shaping societal axioms?' and central claim 'Video games should face increased regulatory measures to address their influence on perpetuating societal biases and promoting inclusivity in content and gameplay.' ...\n",
      "2024-01-22T09:41:51.039947+0000 INFO Building debate #66 (of 1100) with topic 'The significance of speech therapy in overcoming communication barriers and reducing discrimination in the United States.' and central claim 'Implementing comprehensive speech therapy programs in schools and media platforms can substantially reduce discrimination and promote diversity in the United States.' ...\n",
      "2024-01-22T09:41:51.042480+0000 INFO Building debate #67 (of 1100) with topic 'The influence of American TV shows on global cultural norms: a catalyst for change or perpetuation of stereotypes?' and central claim 'American TV shows predominantly promote positive cultural change by challenging stereotypes and promoting diversity in global society.' ...\n",
      "2024-01-22T09:41:51.045143+0000 INFO Building debate #68 (of 1100) with topic 'The power of gaming as a tool for promoting social awareness and fighting discrimination.' and central claim 'Gaming has a significant and influential role in raising social awareness and combating discrimination through immersive storytelling and promoting diverse representation.' ...\n",
      "2024-01-22T09:41:51.048029+0000 INFO Building debate #69 (of 1100) with topic 'The responsibility of American actors in advocating for diversity and challenging discrimination through their performances.' and central claim 'American actors have a moral obligation to actively promote diversity and consistently challenge discrimination through their on-screen and stage performances.' ...\n",
      "2024-01-22T09:41:51.050613+0000 INFO Building debate #70 (of 1100) with topic 'Should the United States government enforce diversity quotas in the TV industry to promote equal representation and eliminate discrimination?' and central claim 'The U.S. government should implement diversity quotas in the TV industry to ensure fair representation and combat discrimination in speech, acting, and other related fields.' ...\n",
      "2024-01-22T09:41:51.053040+0000 INFO Building debate #71 (of 1100) with topic 'Impact of Ireland's Sexual Education Policies on Teenage Pregnancy Rates and Consciousness.' and central claim 'Implementing comprehensive sexual education policies in Ireland's schools will significantly reduce teenage pregnancy rates, promote environmental sustainability, and foster global peace by enhancing sexual consciousness among youth.' ...\n",
      "2024-01-22T09:41:51.056009+0000 INFO Building debate #72 (of 1100) with topic 'The Role of Canada's Economy in Mitigating Climate Change through Renewable Energy Adoption.' and central claim 'Canada should significantly prioritize and invest in the adoption of renewable energy sources to drive its economy and substantially reduce greenhouse gas emissions in the fight against climate change.' ...\n",
      "2024-01-22T09:41:51.058630+0000 INFO Building debate #73 (of 1100) with topic 'The Effects of War on Mental Health and Consciousness in Asia.' and central claim 'We assert that the prolonged impact of war in Asia significantly damages mental health and hinders societal consciousness towards peace and human rights.' ...\n",
      "2024-01-22T09:41:51.061243+0000 INFO Building debate #74 (of 1100) with topic 'The Economic Implications of Legalizing Prostitution in Ireland.' and central claim 'Legalizing prostitution in Ireland would lead to substantial economic benefits while promoting consciousness, learning from successful cases in Canada and Asia, and addressing societal concerns in the context of climate change and war.' ...\n",
      "2024-01-22T09:41:51.063799+0000 INFO Building debate #75 (of 1100) with topic 'The Relationship between Gender Equality and Economic Growth in Asian Countries.' and central claim 'Asian countries should actively promote and implement gender equality policies to foster sustainable economic growth and address global concerns such as climate change and peace.' ...\n",
      "2024-01-22T09:41:51.066552+0000 INFO Building debate #76 (of 1100) with topic 'Should Canada take a stronger stance in Climate Change negotiations to prevent future wars?' and central claim 'Canada should significantly increase its efforts in climate change negotiations to prevent future resource-driven conflicts and promote global peace and stability.' ...\n",
      "2024-01-22T09:41:51.069221+0000 INFO Building debate #77 (of 1100) with topic 'The correlation between Consciousness about Climate Change and Consumer Behavior in Ireland.' and central claim 'In Ireland, heightened awareness of climate change significantly influences consumer behavior towards more environmentally friendly choices, contributing to a sustainable economy.' ...\n",
      "2024-01-22T09:41:51.072642+0000 INFO Building debate #78 (of 1100) with topic 'The Impact of Economic Sanctions on Ireland's Reproductive Rights during the Conflict with the UK.' and central claim 'Implementing economic sanctions against the UK during the conflict significantly hindered Ireland's progress towards reproductive rights and exacerbated social and environmental disparities.' ...\n",
      "2024-01-22T09:41:51.075441+0000 INFO Building debate #79 (of 1100) with topic 'The Contribution of Canada's Economy to Global Efforts to Combat Climate Change.' and central claim 'Canada's proactive economic strategies significantly contribute to global efforts in mitigating climate change and promoting a sustainable future for Asia, Ireland, and other concerned regions.' ...\n",
      "2024-01-22T09:41:51.078329+0000 INFO Building debate #80 (of 1100) with topic 'How can Asia's cultural perception of gender roles affect economic growth and climate change efforts?' and central claim 'Asia should actively address and reform its traditional gender roles to promote economic growth and enhance climate change mitigation efforts.' ...\n",
      "2024-01-22T09:41:51.080959+0000 INFO Building debate #81 (of 1100) with topic 'Impact of Socialism on the Advancement of Aviation Technology: Should government intervention and funding be prioritized in the development of aircraft or should it be left to private corporations?' and central claim 'Government-led socialist intervention and funding in aviation technology development are essential to foster greater advancements than relying solely on private corporations.' ...\n",
      "2024-01-22T09:41:51.083520+0000 INFO Building debate #82 (of 1100) with topic 'The Ethics of Surveillance: Does the FBI's extensive use of computers and data collection infringe on citizens' privacy rights or is it essential for national security?' and central claim 'The FBI's extensive use of computers and data collection for national security purposes significantly violates citizens' privacy rights and requires stricter regulations to ensure balance and trust.' ...\n",
      "2024-01-22T09:41:51.086260+0000 INFO Building debate #83 (of 1100) with topic 'The Dark Web and Cybersecurity: Should computer technology be regulated to limit access to the Dark Web or should emphasis be placed on better education and prevention of cybercrime?' and central claim 'We argue for implementing stringent regulations on computer technology to restrict access to the Dark Web and prioritize prevention of cybercrime over relying solely on education and awareness.' ...\n",
      "2024-01-22T09:41:51.088774+0000 INFO Building debate #84 (of 1100) with topic 'Mental Health and Quarantine: How has the coronavirus pandemic affected mental health, and should there be a greater focus on mental wellbeing in future lockdowns?' and central claim 'In future lockdowns caused by global pandemics, governments have a fundamental obligation to implement comprehensive mental health support systems to address the significant impact on wellbeing.' ...\n",
      "2024-01-22T09:41:51.091276+0000 INFO Building debate #85 (of 1100) with topic 'Mathematics as a Tool for Pandemic Modeling: How vital is mathematical modeling to predict and manage the spread of viruses like COVID-19, and what limitations should be considered?' and central claim 'Mathematical modeling is indispensable in effectively predicting and managing the spread of viruses like COVID-19, despite its inherent limitations, as it offers vital insights for safeguarding public health and enabling informed decision-making in the context of global concerns such as politics, technology, and mental well-being.' ...\n",
      "2024-01-22T09:41:51.100056+0000 INFO Building debate #86 (of 1100) with topic 'The Role of Government in Vaccine Distribution: Should vaccine distribution be controlled by the government through socialist measures or left to market forces?' and central claim 'Government should prioritize socialist measures in vaccine distribution to ensure equitable access and optimal public health outcomes amidst ongoing global challenges.' ...\n",
      "2024-01-22T09:41:51.102901+0000 INFO Building debate #87 (of 1100) with topic 'Encryption and FBI Investigations: Is the use of encryption in communication tools an impediment to FBI investigations, or does it serve as a necessary protection of citizen privacy?' and central claim 'Encryption in communication tools effectively safeguards citizen privacy without significantly hindering FBI investigations.' ...\n",
      "2024-01-22T09:41:51.105572+0000 INFO Building debate #88 (of 1100) with topic 'The Dark Web: A Blessing or Curse for Modern Society: Can the Dark Web be harnessed for legitimate purposes, or should it be eradicated due to its association with criminal activities?' and central claim 'The potential legitimate uses of the Dark Web outweigh its criminal associations and should be actively promoted and regulated for the overall benefit of modern society.' ...\n",
      "2024-01-22T09:41:51.108464+0000 INFO Building debate #89 (of 1100) with topic 'Mental Health and Remote Work: How has remote work affected mental health during the pandemic, and should companies implement policies to address this issue moving forward?' and central claim 'Implement mandatory mental health policies in remote work companies to proactively address and mitigate the negative impacts of the pandemic on employees' mental well-being.' ...\n",
      "2024-01-22T09:41:51.113145+0000 INFO Building debate #90 (of 1100) with topic 'The Rise of AI in Aviation: How will advancements in artificial intelligence and automation impact the aviation industry, and what ethical considerations need to be taken into account?' and central claim 'The implementation of advanced AI and automation technologies in aviation will significantly enhance safety, efficiency, and accessibility, while it's crucial to establish stringent ethical guidelines for data privacy, transparency, and job displacement mitigation.' ...\n",
      "2024-01-22T09:41:51.116460+0000 INFO Building debate #91 (of 1100) with topic 'Mental Health and Finance: \"Should governments invest more in mental health services to alleviate the financial burden on individuals and society?\"' and central claim 'Governments should significantly increase their investment in mental health services to mitigate the financial consequences for individuals and society as a whole.' ...\n",
      "2024-01-22T09:41:51.119397+0000 INFO Building debate #92 (of 1100) with topic 'English and Fantasy: \"Are fantasy novels with complex world-building and language an effective tool for improving English literacy?\"' and central claim 'Fantasy novels with intricate world-building and language significantly contribute to enhancing English literacy, promoting mental well-being, and potentially impacting finance and current events in a positive manner.' ...\n",
      "2024-01-22T09:41:51.131026+0000 INFO Building debate #93 (of 1100) with topic 'Biology and Pandemic: \"Is the study of pandemics and their impact on human biology essential for the development of future disease mitigation strategies?\"' and central claim 'The intensive study of pandemics and their effects on human biology is indispensable for the advancement of future disease mitigation strategies and the overall well-being of society.' ...\n",
      "2024-01-22T09:41:51.134317+0000 INFO Building debate #94 (of 1100) with topic 'Mental Health and Current Events: \"Are social media platforms responsible for the increasing rates of mental health issues among teenagers and young adults?\"' and central claim 'Social media platforms significantly contribute to the escalating mental health issues among teenagers and young adults.' ...\n",
      "2024-01-22T09:41:51.137679+0000 INFO Building debate #95 (of 1100) with topic 'English and Electricity: \"To what extent has the advent of electric communication technologies shaped the evolution of the English language?\"' and central claim 'The substantial impact of electric communication technologies on the English language has significantly altered its usage, vocabulary, and social dynamics, particularly concerning mental health, finance, fantasy, biology, pandemic, current events, and electricity-related discussions.' ...\n",
      "2024-01-22T09:41:51.140620+0000 INFO Building debate #96 (of 1100) with topic 'Mental Health and Finance: \"Should employers be required to provide mental health care coverage to their employees as part of a comprehensive healthcare package?\"' and central claim 'It is imperative for employers to mandatorily include comprehensive mental health care coverage in their employee healthcare packages to promote overall well-being amidst current events, pandemic challenges, and considering the interconnectedness of mental health with various other disciplines such as finance, biology, and more.' ...\n",
      "2024-01-22T09:41:51.143609+0000 INFO Building debate #97 (of 1100) with topic 'Fantasy and Biology: \"Can the fictional creatures in fantasy literature inspire real-world scientific discoveries in biology?\"' and central claim 'Fantasy literature's imaginative creatures can stimulate innovative scientific research in biology, leading to real-world discoveries that have far-reaching impacts on mental health, finance, pandemic response, current events, and electricity technologies.' ...\n",
      "2024-01-22T09:41:51.161544+0000 INFO Building debate #98 (of 1100) with topic 'Pandemic and Current Events: \"Should international organizations have more power to enforce global health regulations in the wake of the current pandemic?\"' and central claim 'In light of the ongoing pandemic and its impact on mental health, finance, and current events, this debate advocates for granting international organizations increased authority to enforce global health regulations.' ...\n",
      "2024-01-22T09:41:51.164669+0000 INFO Building debate #99 (of 1100) with topic 'Electricity and Finance: \"Are renewable energy investments a sustainable solution for financial markets and economies in the face of climate change?\"' and central claim 'Renewable energy investments are a crucial and viable long-term strategy for financial stability and combating climate change, benefiting both the environment and the economy.' ...\n",
      "2024-01-22T09:41:51.167496+0000 INFO Building debate #100 (of 1100) with topic 'Mental Health and Biology: \"Can advancements in neuroscience lead to more effective treatments for mental health disorders?\"' and central claim 'Neuroscience breakthroughs substantially enhance the efficacy of mental health disorder treatments.' ...\n",
      "2024-01-22T09:41:51.170257+0000 INFO Building debate #101 (of 1100) with topic 'The Effectiveness of Germany's Approach to Protecting Human Rights vs. Mexico's Efforts.' and central claim 'Germany's comprehensive and systematic approach to human rights protection is more effective in addressing pressing concerns such as abortion, internet security, and social justice than Mexico's efforts.' ...\n",
      "2024-01-22T09:41:51.173263+0000 INFO Building debate #102 (of 1100) with topic 'Flat Earth Theory: A Challenge to Human Rights or a Mere Nerd Phenomenon?' and central claim 'The Flat Earth Theory, when propagated without critical thinking, poses a significant threat to human rights and social well-being in Germany and Mexico.' ...\n",
      "2024-01-22T09:41:51.176225+0000 INFO Building debate #103 (of 1100) with topic 'The Entertainment Industry's Influence on Botnet Creation: A Moral Dilemma.' and central claim 'The Entertainment Industry has a significant moral obligation to address and mitigate its influence on the proliferation of botnets in society.' ...\n",
      "2024-01-22T09:41:51.181798+0000 INFO Building debate #104 (of 1100) with topic 'Should Nerds Have More Rights in Modern Society?' and central claim 'In modern society, acknowledging and actively protecting the rights and contributions of nerds leads to an overall improvement in human rights, technological advancement, and entertainment, benefiting nations like Germany and Mexico.' ...\n",
      "2024-01-22T09:41:51.185313+0000 INFO Building debate #105 (of 1100) with topic 'The Ethics of Entertaining Abortion Debates in Germany.' and central claim 'Germany should openly discuss and debate the ethical aspects of abortion as a means to promote informed decision-making, foster human rights protection, and encourage public awareness on this critical social issue.' ...\n",
      "2024-01-22T09:41:51.189339+0000 INFO Building debate #106 (of 1100) with topic 'The Role of Flat Earth Theory in Mexico's Human Rights Discourse.' and central claim 'We advocate for incorporating a critical analysis of Flat Earth Theory into Mexico's human rights discourse to foster deeper societal understanding and promote equal rights for all, regardless of their beliefs or backgrounds.' ...\n",
      "2024-01-22T09:41:51.192172+0000 INFO Building debate #107 (of 1100) with topic 'The Impact of Abortion Legislation on the Entertainment Industry in Germany.' and central claim 'Stricter abortion legislation in Germany will negatively impact the country's entertainment industry by limiting artistic expression and fostering a restrictive environment for creators.' ...\n",
      "2024-01-22T09:41:51.194945+0000 INFO Building debate #108 (of 1100) with topic 'The Relationship between Nerd Culture and Botnet Development.' and central claim 'The flourishing of nerd culture in Germany and Mexico has significantly contributed to the growth and sophistication of botnet development, necessitating stricter regulations and ethical considerations.' ...\n",
      "2024-01-22T09:41:51.197799+0000 INFO Building debate #109 (of 1100) with topic 'Should Flat Earth Theory be Taught as Entertainment in Germany?' and central claim 'Germany should legally prohibit the promotion and teaching of Flat Earth Theory as entertainment to uphold human rights and prioritize scientific education, especially concerning the impact on vulnerable populations and global issues such as botnet security, Mexico-Germany relations, nerd culture, and the ongoing abortion debate.' ...\n",
      "2024-01-22T09:41:51.200842+0000 INFO Building debate #110 (of 1100) with topic 'Human Rights Violations in Flat Earth Communities: An Analysis of Mexico and Germany.' and central claim 'Governments should actively combat and address human rights violations within Flat Earth communities in Mexico and Germany.' ...\n",
      "2024-01-22T09:41:51.203560+0000 INFO Building debate #111 (of 1100) with topic 'Should England ban sexually explicit content for minors, enforcing stricter regulations through botnet detection systems to prevent DDoS attacks from adult websites?' and central claim 'England should implement strict regulations on sexually explicit content for minors, utilizing botnet detection systems to effectively combat DDoS attacks from adult websites and promote a healthier cultural environment for the youth.' ...\n",
      "2024-01-22T09:41:51.206711+0000 INFO Building debate #112 (of 1100) with topic 'Experimenting with alternative housing models: Should the government provide affordable housing to combat cultural disparities and discrimination?' and central claim 'The government should actively support and implement alternative housing models to address cultural disparities and discrimination, by providing affordable housing for marginalized communities.' ...\n",
      "2024-01-22T09:41:51.209418+0000 INFO Building debate #113 (of 1100) with topic 'The ethics of sexuality experiments: Are researchers' efforts to understand human sexuality justifiable when cultural sensitivities are potentially violated?' and central claim 'Researchers should rigorously respect cultural sensitivities while investigating human sexuality, but their efforts to understand it are still justifiable for the advancement of knowledge and well-being.' ...\n",
      "2024-01-22T09:41:51.212189+0000 INFO Building debate #114 (of 1100) with topic 'Should England implement a complete ban on DDoS attacks, even if they are used for political activism, and develop specialized botnets to counter such attacks?' and central claim 'England should enact a comprehensive ban on DDoS attacks, regardless of their use in political activism, and invest in developing specialized botnets for defensive countermeasures to protect essential services and maintain a secure digital environment.' ...\n",
      "2024-01-22T09:41:51.215041+0000 INFO Building debate #115 (of 1100) with topic 'The housing crisis and its impact on sexual diversity: Are affordable housing shortages leading to discrimination against LGBTQ+ individuals in certain communities?' and central claim 'The housing crisis significantly exacerbates discrimination against LGBTQ+ individuals in certain communities due to limited affordable housing options.' ...\n",
      "2024-01-22T09:41:51.218090+0000 INFO Building debate #116 (of 1100) with topic 'Cultural representation in English literature: Should there be a ban on the promotion of outdated and harmful stereotypes about sexuality in classic novels?' and central claim 'Classic English literature should actively work towards eliminating outdated and harmful sexuality stereotypes through contextualization and educational annotations.' ...\n",
      "2024-01-22T09:41:51.220842+0000 INFO Building debate #117 (of 1100) with topic 'The role of botnets in combating DDoS attacks against websites promoting sexual health awareness: Are they an ethical solution to ensure access to necessary resources?' and central claim 'We propose utilizing botnets as an ethical defense mechanism to counteract DDoS attacks and maintain unrestricted access to websites promoting sexual health awareness.' ...\n",
      "2024-01-22T09:41:51.223798+0000 INFO Building debate #118 (of 1100) with topic 'The impact of housing policies on cultural diversity: Are certain housing practices in England unintentionally promoting segregation and limiting cross-cultural interactions?' and central claim 'England's current housing policies unintentionally exacerbate cultural segregation and hinder cross-cultural interactions, necessitating immediate policy reforms to promote diversity and inclusivity.' ...\n",
      "2024-01-22T09:41:51.226616+0000 INFO Building debate #119 (of 1100) with topic 'The ethics of conducting sexuality experiments using English-speaking participants: Should consent be prioritized over scientific advancements, especially when cultural sensitivities are involved?' and central claim 'In cases of sexuality experiments involving English-speaking participants and culturally sensitive content, prioritizing informed consent should take precedence over scientific advancements to uphold ethical standards and respect diverse cultural values.' ...\n",
      "2024-01-22T09:41:51.229328+0000 INFO Building debate #120 (of 1100) with topic 'The relationship between botnets, DDoS attacks, and housing rights activism: Should botnets be used to defend activist websites fighting for affordable housing against DDoS attacks, even if it involves potentially illegal methods?' and central claim 'In the fight for affordable housing and to protect activist websites from malicious DDoS attacks, we support the ethical development and strategic usage of botnets as a defensive measure, even if it involves controversial techniques, to maintain online freedoms and promote social justice.' ...\n",
      "2024-01-22T09:41:51.232193+0000 INFO Building debate #121 (of 1100) with topic 'The Impact of Violent Video Games on Domestic Violence Rates: Nature vs. Nurture' and central claim 'The violent content in video games significantly contributes to an increase in domestic violence rates among players with lower cognitive competency.' ...\n",
      "2024-01-22T09:41:51.235754+0000 INFO Building debate #122 (of 1100) with topic 'Should Artificial Intelligence (AI) be Used to Prevent Domestic Violence Cases?' and central claim 'Implementing advanced Artificial Intelligence systems is essential in combating domestic violence by identifying potential risks and providing timely intervention for the safety and well-being of families and communities.' ...\n",
      "2024-01-22T09:41:51.238600+0000 INFO Building debate #123 (of 1100) with topic 'The Role of Intelligence in Combating Botnet Attacks' and central claim 'The strategic integration of advanced intelligence systems is essential in effectively countering and mitigating the threat of botnet attacks, thereby promoting a safer digital environment for individuals and organizations, particularly during critical periods like Christmas and in sensitive areas like education and literature.' ...\n",
      "2024-01-22T09:41:51.241360+0000 INFO Building debate #124 (of 1100) with topic 'The Competency of Online Education in College Preparedness: Debunking the Myth' and central claim 'Online education at the college level is equally effective in preparing students for their careers and academic advancement, debunking the misconception that it is inferior to traditional on-campus education.' ...\n",
      "2024-01-22T09:41:51.244636+0000 INFO Building debate #125 (of 1100) with topic 'Should Christmas be a National Holiday: A Debate on Authoritative Powers' and central claim 'The government should officially designate Christmas as a national holiday to foster community bonds, promote mental well-being, and address potential domestic violence concerns during the festive season.' ...\n",
      "2024-01-22T09:41:51.248294+0000 INFO Building debate #126 (of 1100) with topic 'The Relationship between Intelligence and Literary Success: Insights from Famous Authors' and central claim 'The exceptional levels of intelligence in renowned authors significantly contribute to their literary success and distinguishes their work in the literary world.' ...\n",
      "2024-01-22T09:41:51.251193+0000 INFO Building debate #127 (of 1100) with topic 'The Role of Gaming Culture in Reducing Domestic Violence: A Critical Evaluation' and central claim 'Gaming culture effectively contributes to a significant reduction in domestic violence through its engaging and intellectually stimulating nature.' ...\n",
      "2024-01-22T09:41:51.253828+0000 INFO Building debate #128 (of 1100) with topic 'The Ethics of Using College Data for Botnet Defense Research' and central claim 'College data should be ethically utilized in botnet defense research to protect individuals and communities from cybercrime and its associated adverse consequences.' ...\n",
      "2024-01-22T09:41:51.256720+0000 INFO Building debate #129 (of 1100) with topic 'Christmas Commercialization: How Far is Too Far for a Holiday Celebrated by Millions?' and central claim 'Excessive commercialization of Christmas diminishes its true values and promotes negative societal impacts, such as domestic violence, intelligence degradation, cyber threats, and undermining college education and literary culture.' ...\n",
      "2024-01-22T09:41:51.259589+0000 INFO Building debate #130 (of 1100) with topic 'The Impact of College Education on Authorial Competency: A Comparative Analysis' and central claim 'College education significantly enhances an author's competency in addressing complex societal issues such as domestic violence, cyber threats, and intelligence matters.' ...\n",
      "2024-01-22T09:41:51.262416+0000 INFO Building debate #131 (of 1100) with topic 'Capitalism vs. Socialism: Which economic system promotes fairer software distribution and alleviates discrimination in the tech industry?' and central claim 'Socialism, through equitable distribution and anti-discriminatory policies, is more effective in promoting fair software distribution and combating discrimination within the tech industry.' ...\n",
      "2024-01-22T09:41:51.265021+0000 INFO Building debate #132 (of 1100) with topic 'Space exploration privatization: Should it be funded by governments or capitalist ventures like SpaceX?' and central claim 'Space exploration should primarily be funded and driven by capitalist ventures like SpaceX to promote innovation, accessibility, and equality, while governments focus on regulation and support.' ...\n",
      "2024-01-22T09:41:51.267738+0000 INFO Building debate #133 (of 1100) with topic 'Artificial Intelligence and Discrimination: Do ethical guidelines need to be implemented to prevent biased software algorithms that perpetuate societal prejudices?' and central claim 'Strict ethical guidelines should be mandated for AI developers to prevent and mitigate discriminatory practices in software algorithms and promote fairness in society.' ...\n"
     ]
    }
   ],
   "source": [
    "# multithreaded\n",
    "\n",
    "from ast import literal_eval\n",
    "import asyncio\n",
    "import json\n",
    "import networkx as nx\n",
    "import pandas as pd\n",
    "import uuid\n",
    "\n",
    "from loguru import logger\n",
    "\n",
    "from builder import DebateBuilder, to_kialo\n",
    "\n",
    "BATCH_SIZE = 128\n",
    "\n",
    "logger.remove()\n",
    "logger.add(\"debate_creation_{time}.log\", level=\"INFO\")\n",
    "logger.add(sys.stderr, format=\"{time} {level} {message}\", level=\"INFO\")\n",
    "\n",
    "builder = DebateBuilder(\n",
    "    tags_universal=tags_universal,\n",
    "    tags_per_cluster=TAGS_PER_CLUSTER,\n",
    "    model=model,\n",
    ")\n",
    "\n",
    "df_metadata = pd.read_csv(os.path.join(corpus_path,\"metadata.csv\"))\n",
    "\n",
    "\n",
    "async def build(i, row):\n",
    "    kialo_file_path = os.path.join(corpus_path,\"kialo\",row.split,f\"{row.uid}.txt\") \n",
    "    json_file_path = os.path.join(corpus_path,\"json\",row.split,f\"{row.uid}.json\") \n",
    "\n",
    "    if os.path.exists(kialo_file_path):\n",
    "        logger.warning(f\"File '{kialo_file_path}' exists, skipping debate #{i+1}.\")\n",
    "        return\n",
    "    if os.path.exists(json_file_path):\n",
    "        logger.warning(f\"File '{json_file_path}' exists, skipping debate #{i+1}.\")\n",
    "        return\n",
    "\n",
    "    logger.info(f\"Building debate #{i+1} (of {len(df_metadata)}) with topic '{row.topic}' and central claim '{row.motion}' ...\")    \n",
    "        \n",
    "    degree_config = literal_eval(row.degree_config)\n",
    "        \n",
    "    tree = await builder.build_debate(\n",
    "        root_claim=row.motion,\n",
    "        topic=row.topic,\n",
    "        tag_cluster=row.tags,\n",
    "        degree_config=degree_config,\n",
    "    )\n",
    "\n",
    "    os.makedirs(os.path.dirname(kialo_file_path), exist_ok=True)\n",
    "    with open(kialo_file_path, 'w') as f:\n",
    "        for line in to_kialo(tree, topic=row.topic):\n",
    "            f.write(f\"{line}\\n\")\n",
    "\n",
    "    os.makedirs(os.path.dirname(json_file_path), exist_ok=True)\n",
    "    with open(json_file_path, 'w') as f:\n",
    "        json.dump(nx.node_link_data(tree), f)\n",
    "\n",
    "        \n",
    "sem = asyncio.Semaphore(BATCH_SIZE)\n",
    "\n",
    "async def safe_build(i, row):\n",
    "    async with sem:  # semaphore limits num of simultaneous debate builds\n",
    "        return await build(i, row)\n",
    "\n",
    "\n",
    "tasks = [\n",
    "    asyncio.ensure_future(safe_build(i, row))  # creating task starts coroutine\n",
    "    for i, row \n",
    "    in df_metadata.iterrows()\n",
    "]\n",
    "await asyncio.gather(*tasks)  # await moment all debates built    \n",
    "    \n"
   ]
  },
  {
   "cell_type": "code",
   "execution_count": null,
   "id": "aa895587",
   "metadata": {},
   "outputs": [],
   "source": [
    "# no threading\n",
    "\n",
    "from ast import literal_eval\n",
    "import json\n",
    "import networkx as nx\n",
    "import pandas as pd\n",
    "import uuid\n",
    "\n",
    "from loguru import logger\n",
    "\n",
    "from builder import DebateBuilder, to_kialo\n",
    "\n",
    "logger.remove()\n",
    "logger.add(\"debate_creation_{time}.log\", level=\"INFO\")\n",
    "logger.add(sys.stderr, format=\"{time} {level} {message}\", level=\"INFO\")\n",
    "\n",
    "builder = DebateBuilder(\n",
    "    tags_universal=tags_universal,\n",
    "    tags_per_cluster=TAGS_PER_CLUSTER,\n",
    "    model=model,\n",
    ")\n",
    "\n",
    "df_metadata = pd.read_csv(os.path.join(corpus_path,\"metadata.csv\"))\n",
    "\n",
    "for i, row in df_metadata.iterrows():\n",
    "\n",
    "    kialo_file_path = os.path.join(corpus_path,\"kialo\",row.split,f\"{row.uid}.txt\") \n",
    "    json_file_path = os.path.join(corpus_path,\"json\",row.split,f\"{row.uid}.json\") \n",
    "\n",
    "    if os.path.exists(kialo_file_path):\n",
    "        logger.warning(f\"File '{kialo_file_path}' exists, skipping debate #{i+1}.\")\n",
    "        continue\n",
    "    if os.path.exists(json_file_path):\n",
    "        logger.warning(f\"File '{json_file_path}' exists, skipping debate #{i+1}.\")\n",
    "        continue\n",
    "\n",
    "    logger.info(f\"Building debate #{i+1} (of {len(df_metadata)}) with topic '{row.topic}' and central claim '{row.motion}' ...\")    \n",
    "        \n",
    "    degree_config = literal_eval(row.degree_config)\n",
    "        \n",
    "    tree = await builder.build_debate(\n",
    "        root_claim=row.motion,\n",
    "        topic=row.topic,\n",
    "        tag_cluster=row.tags,\n",
    "        degree_config=degree_config,\n",
    "    )\n",
    "\n",
    "    os.makedirs(os.path.dirname(kialo_file_path), exist_ok=True)\n",
    "    with open(kialo_file_path, 'w') as f:\n",
    "        for line in to_kialo(tree, topic=row.topic):\n",
    "            f.write(f\"{line}\\n\")\n",
    "\n",
    "    os.makedirs(os.path.dirname(json_file_path), exist_ok=True)\n",
    "    with open(json_file_path, 'w') as f:\n",
    "        json.dump(nx.node_link_data(tree), f)\n",
    "    \n",
    "    \n"
   ]
  },
  {
   "cell_type": "code",
   "execution_count": null,
   "id": "6bc2133b",
   "metadata": {},
   "outputs": [],
   "source": [
    "def to_kialo(tree, topic = \"\"):\n",
    "\n",
    "    lines = []\n",
    "    lines.append(f\"Discussion Title: {topic}\")\n",
    "    lines.append(\"\")\n",
    "    \n",
    "    def print_edge(target, counter, val = None):\n",
    "\n",
    "        if val is None:\n",
    "            sym = \" \"\n",
    "        else:\n",
    "            sym = \" PRO: \" if val==queries.PRO else \" CON: \"\n",
    "\n",
    "        line = counter + sym + tree.nodes[target][\"claim\"]\n",
    "        lines.append(line)\n",
    "\n",
    "        i = 0\n",
    "        for source, _, data in tree.in_edges(target, data=True):\n",
    "            i += 1\n",
    "            print_edge(\n",
    "                source,\n",
    "                counter+f\"{i}.\",\n",
    "                data['valence']\n",
    "            )    \n",
    "\n",
    "    root_id = next(n for n in tree.nodes if len(tree.out_edges(n))==0)\n",
    "    counter = \"1.\"\n",
    "\n",
    "    print_edge(root_id, counter)\n",
    "    \n",
    "    return lines\n",
    "    \n",
    "print(\"\\n\".join(to_kialo(tree)))"
   ]
  },
  {
   "cell_type": "code",
   "execution_count": null,
   "id": "dd835bd5",
   "metadata": {},
   "outputs": [],
   "source": []
  },
  {
   "cell_type": "markdown",
   "id": "4a767278",
   "metadata": {},
   "source": [
    "# Appendices"
   ]
  },
  {
   "cell_type": "markdown",
   "id": "de545f60",
   "metadata": {},
   "source": [
    "## LMQL Queries Tests"
   ]
  },
  {
   "cell_type": "code",
   "execution_count": null,
   "id": "a14b45df",
   "metadata": {},
   "outputs": [],
   "source": [
    "import queries"
   ]
  },
  {
   "cell_type": "code",
   "execution_count": null,
   "id": "08ffe068",
   "metadata": {},
   "outputs": [],
   "source": [
    "# test topic suggestion\n",
    "result = await queries.suggest_topics(\n",
    "    model=model,\n",
    "    tags=tag_clusters_train[0][\"tags\"],\n",
    "    debates_per_tag_cluster=DEBATES_PER_TAG_CLUSTER,\n",
    ")\n",
    "result"
   ]
  },
  {
   "cell_type": "code",
   "execution_count": null,
   "id": "00f09838",
   "metadata": {},
   "outputs": [],
   "source": [
    "result = await queries.suggest_motion(\n",
    "    model=model,\n",
    "    tags=tag_clusters_train[0][\"tags\"],\n",
    "    topic=\"The Effects of Lockdowns on Children's Mental Health: A Worldwide Analysis.\"\n",
    ")\n",
    "import pprint\n",
    "pprint.pprint(result)"
   ]
  },
  {
   "cell_type": "code",
   "execution_count": null,
   "id": "bbe94ea8",
   "metadata": {},
   "outputs": [],
   "source": [
    "result = await queries.identify_premises(\n",
    "    model=model,\n",
    "    argument=\"Racial and Ethnic Disparities: Systemic racism has historically restricted educational opportunities for certain minority communities, such as Black, Hispanic, and Native American students, who continue to face barriers to accessing higher education.\",\n",
    "    conclusion=\"Improved Equity and Inclusion: Free college education addresses historical disparities faced by underrepresented groups in higher education, promoting inclusivity and equal opportunity across various racial, ethnic, gender, and socioeconomic identities.\",\n",
    "    valence=queries.PRO,\n",
    ")"
   ]
  },
  {
   "cell_type": "code",
   "execution_count": null,
   "id": "af9ac172",
   "metadata": {},
   "outputs": [],
   "source": [
    "pprint.pprint(result)"
   ]
  },
  {
   "cell_type": "code",
   "execution_count": null,
   "id": "144b5478",
   "metadata": {},
   "outputs": [],
   "source": [
    "result = await queries.identify_premises(\n",
    "    model=model,\n",
    "    argument=\"Improved Equity and Inclusion: Free college education addresses historical disparities faced by underrepresented groups in higher education, promoting inclusivity and equal opportunity across various racial, ethnic, gender, and socioeconomic identities.\",\n",
    "    conclusion=\"College education should be free.\",\n",
    "    valence=queries.CON,\n",
    ")"
   ]
  },
  {
   "cell_type": "code",
   "execution_count": null,
   "id": "7fd59584",
   "metadata": {},
   "outputs": [],
   "source": [
    "pprint.pprint(result)"
   ]
  },
  {
   "cell_type": "code",
   "execution_count": null,
   "id": "c433b7ee",
   "metadata": {},
   "outputs": [],
   "source": [
    "premises = ['Free college education addresses historical disparities in higher education.',\n",
    " 'Promoting inclusivity and equal opportunity is important across various '\n",
    " 'racial, ethnic, gender, and socioeconomic identities.',\n",
    " 'Underrepresented groups face challenges in higher education access.',\n",
    " 'Improving equity and inclusion in higher education can be achieved through '\n",
    " 'free college education.']"
   ]
  },
  {
   "cell_type": "code",
   "execution_count": null,
   "id": "42aab34e",
   "metadata": {},
   "outputs": [],
   "source": [
    "result = await queries.rank_by_plausibility(\n",
    "    model=model,\n",
    "    premises=premises,\n",
    "    tags=tag_clusters_train[0][\"tags\"],\n",
    "    decoder=\"beam\",\n",
    "    n=2,\n",
    ")\n",
    "print(result[0])"
   ]
  },
  {
   "cell_type": "code",
   "execution_count": null,
   "id": "80a64fa2",
   "metadata": {},
   "outputs": [],
   "source": [
    "result = await queries.supporting_argument(\n",
    "    model=model,\n",
    "    premises=premises,\n",
    "    target_idx=1,\n",
    "    n=4,\n",
    "    tags=tag_clusters_train[0][\"tags\"],\n",
    "    decoder=\"sample\",\n",
    "    temperature=.6,\n",
    ")\n",
    "pprint.pprint(result)"
   ]
  },
  {
   "cell_type": "code",
   "execution_count": null,
   "id": "cc9f3f6b",
   "metadata": {},
   "outputs": [],
   "source": [
    "result = await queries.supporting_argument(\n",
    "    model=model,\n",
    "    premises=premises,\n",
    "    target_idx=2,\n",
    "    tags=tag_clusters_train[0][\"tags\"],\n",
    "    decoder=\"sample\",\n",
    "    temperature=.6,    \n",
    ")\n",
    "pprint.pprint(result)"
   ]
  },
  {
   "cell_type": "code",
   "execution_count": null,
   "id": "5af9138f",
   "metadata": {},
   "outputs": [],
   "source": []
  },
  {
   "cell_type": "code",
   "execution_count": null,
   "id": "eac3b3ab",
   "metadata": {},
   "outputs": [],
   "source": [
    "result = await queries.attacking_argument(\n",
    "    model=model,\n",
    "    premises=premises,\n",
    "    target_idx=2,\n",
    "    tags=tag_clusters_train[0][\"tags\"],\n",
    "    decoder=\"sample\",\n",
    "    temperature=.6,\n",
    ")\n",
    "pprint.pprint(result)"
   ]
  },
  {
   "cell_type": "code",
   "execution_count": null,
   "id": "ca1cee52",
   "metadata": {},
   "outputs": [],
   "source": [
    "# back of enevlope: args per debate\n",
    "\n",
    "import math \n",
    "\n",
    "profile = [6,6,1,0] # [6,6,1,0]  [5,5,2,0]  [3,2,2,1,1,0] # [4,3,2,1,0] [3,4,2,1,0] \n",
    "profile = [2*i for i in profile]\n",
    "total = 0\n",
    "for i in range(len(profile)):\n",
    "    total += math.prod(profile[:i+1])\n",
    "    print(total)\n",
    "total"
   ]
  },
  {
   "cell_type": "code",
   "execution_count": null,
   "id": "c4f64e52",
   "metadata": {},
   "outputs": [],
   "source": [
    "def print_argtree(tree):\n",
    "\n",
    "    def print_edge(target, indent, val = None):\n",
    "\n",
    "        if val is None:\n",
    "            sym = \"\"\n",
    "        else:\n",
    "            sym = \"+ \" if val==queries.PRO else \"- \"\n",
    "\n",
    "        line = indent*\" \" + sym + tree.nodes[target][\"claim\"]\n",
    "        print(line)\n",
    "\n",
    "        for source, _, data in tree.in_edges(target, data=True):\n",
    "            print_edge(\n",
    "                source,\n",
    "                indent+2,\n",
    "                data['valence']\n",
    "            )    \n",
    "\n",
    "    root_id = next(n for n in tree.nodes if len(tree.out_edges(n))==0)\n",
    "    indent = 0\n",
    "\n",
    "    print_edge(root_id, 0)\n",
    "    \n",
    "print_argtree(tree)"
   ]
  }
 ],
 "metadata": {
  "kernelspec": {
   "display_name": "Python 3 (ipykernel)",
   "language": "python",
   "name": "python3"
  },
  "language_info": {
   "codemirror_mode": {
    "name": "ipython",
    "version": 3
   },
   "file_extension": ".py",
   "mimetype": "text/x-python",
   "name": "python",
   "nbconvert_exporter": "python",
   "pygments_lexer": "ipython3",
   "version": "3.12.3"
  }
 },
 "nbformat": 4,
 "nbformat_minor": 5
}
